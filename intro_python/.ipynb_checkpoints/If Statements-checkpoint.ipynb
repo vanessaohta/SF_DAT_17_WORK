{
 "cells": [
  {
   "cell_type": "markdown",
   "metadata": {},
   "source": [
    "  # If Statements"
   ]
  },
  {
   "cell_type": "markdown",
   "metadata": {},
   "source": [
    "Simple If Statement"
   ]
  },
  {
   "cell_type": "code",
   "execution_count": 1,
   "metadata": {
    "collapsed": false
   },
   "outputs": [],
   "source": [
    "# must be lowercase \n",
    "# == is a equality test (a == b)\n",
    "# != not equal\n",
    "# and & both work for and\n",
    "# or | both work for or "
   ]
  },
  {
   "cell_type": "code",
   "execution_count": 4,
   "metadata": {
    "collapsed": false
   },
   "outputs": [
    {
     "name": "stdout",
     "output_type": "stream",
     "text": [
      "3\n"
     ]
    }
   ],
   "source": [
    "x = 3\n",
    "if x > 0: \n",
    "    print x"
   ]
  },
  {
   "cell_type": "markdown",
   "metadata": {},
   "source": [
    "Else If Statement"
   ]
  },
  {
   "cell_type": "code",
   "execution_count": 17,
   "metadata": {
    "collapsed": false
   },
   "outputs": [
    {
     "name": "stdout",
     "output_type": "stream",
     "text": [
      "Drake is a positive number\n"
     ]
    }
   ],
   "source": [
    "x = \"Drake\"\n",
    "if x > 0:\n",
    "    print \"{} is a positive number\".format(x)\n",
    "elif x <-50000:\n",
    "    print \"{0:.5f} is a really big negative number\".format(x)\n",
    "elif x < 0: \n",
    "    print \"{} is a negative number\".format(x)\n",
    "elif x == 0:\n",
    "    print \"x equals 0\"\n",
    "else:\n",
    "    print \"{} is not a number\".format(x)\n"
   ]
  },
  {
   "cell_type": "markdown",
   "metadata": {},
   "source": [
    "## Exercise: Update your function to handle errors and convert Fahrenheit to Celsius"
   ]
  },
  {
   "cell_type": "markdown",
   "metadata": {},
   "source": [
    "#### 1. Create a function that checks the type of an input and returns a message stating whether it is numeric or not"
   ]
  },
  {
   "cell_type": "code",
   "execution_count": 73,
   "metadata": {
    "collapsed": true
   },
   "outputs": [],
   "source": [
    "def checkType(degrees):\n",
    "    if type(degrees) in [int,float,bool]:\n",
    "        return \"{} is Numeric\".format(degrees)\n",
    "    else:\n",
    "        return \"{} is not Numeric\".format(degrees)\n",
    "        "
   ]
  },
  {
   "cell_type": "code",
   "execution_count": 77,
   "metadata": {
    "collapsed": false
   },
   "outputs": [],
   "source": [
    "def checkType(degrees):\n",
    "    if (type(degrees) == int) | (type(degrees) == float):\n",
    "        return True\n",
    "    else: \n",
    "        return False\n",
    "    print checkType\n",
    "# if using the | need to wrap conditions in parantheses, don't need to with 'or'\n",
    "# if executes return command it will exit out of the function"
   ]
  },
  {
   "cell_type": "code",
   "execution_count": 75,
   "metadata": {
    "collapsed": false
   },
   "outputs": [
    {
     "data": {
      "text/plain": [
       "'50 is Numeric'"
      ]
     },
     "execution_count": 75,
     "metadata": {},
     "output_type": "execute_result"
    }
   ],
   "source": [
    "checkType(50)"
   ]
  },
  {
   "cell_type": "markdown",
   "metadata": {},
   "source": [
    "#### 2. Update your temperature function from the Python Fundamentals exercise to return an error message if a string is entered instead of a number."
   ]
  },
  {
   "cell_type": "code",
   "execution_count": 78,
   "metadata": {
    "collapsed": false
   },
   "outputs": [],
   "source": [
    "def c2f(C):\n",
    "    if checkType(C) == True:\n",
    "        degrees_f = float(C*(9.0/5)+32)\n",
    "        return '{0} Celsius is {1} in Fahrenheit'.format(C,\"%.2f\" % degrees_f)  \n",
    "    else: \n",
    "        return \"This is not a number\""
   ]
  },
  {
   "cell_type": "code",
   "execution_count": 79,
   "metadata": {
    "collapsed": false
   },
   "outputs": [
    {
     "name": "stdout",
     "output_type": "stream",
     "text": [
      "This is not a number\n",
      "50 Celsius is 122.00 in Fahrenheit\n"
     ]
    }
   ],
   "source": [
    "print c2f(\"dog\")\n",
    "print c2f(50)"
   ]
  },
  {
   "cell_type": "code",
   "execution_count": null,
   "metadata": {
    "collapsed": true
   },
   "outputs": [],
   "source": []
  }
 ],
 "metadata": {
  "kernelspec": {
   "display_name": "Python 2",
   "language": "python",
   "name": "python2"
  },
  "language_info": {
   "codemirror_mode": {
    "name": "ipython",
    "version": 2
   },
   "file_extension": ".py",
   "mimetype": "text/x-python",
   "name": "python",
   "nbconvert_exporter": "python",
   "pygments_lexer": "ipython2",
   "version": "2.7.10"
  }
 },
 "nbformat": 4,
 "nbformat_minor": 0
}
